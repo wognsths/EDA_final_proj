{
 "cells": [
  {
   "cell_type": "code",
   "execution_count": 4,
   "metadata": {},
   "outputs": [],
   "source": [
    "import pandas as pd\n",
    "import numpy as np\n",
    "from sklearn.ensemble import RandomForestClassifier\n",
    "from sklearn.model_selection import train_test_split\n",
    "from sklearn.preprocessing import LabelEncoder\n",
    "from sklearn.metrics import classification_report"
   ]
  },
  {
   "cell_type": "code",
   "execution_count": 18,
   "metadata": {},
   "outputs": [
    {
     "name": "stdout",
     "output_type": "stream",
     "text": [
      "Classification Report:\n",
      "              precision    recall  f1-score   support\n",
      "\n",
      "           0       0.27      0.02      0.03      3884\n",
      "           1       0.38      0.14      0.21      4923\n",
      "           2       0.40      0.09      0.14      2298\n",
      "           3       0.00      0.00      0.00        77\n",
      "           4       0.45      0.15      0.23      4706\n",
      "           5       0.50      0.92      0.65     16563\n",
      "           6       0.00      0.00      0.00       478\n",
      "           7       0.00      0.00      0.00       299\n",
      "           8       0.21      0.01      0.02      1403\n",
      "           9       0.00      0.00      0.00       304\n",
      "\n",
      "    accuracy                           0.48     34935\n",
      "   macro avg       0.22      0.13      0.13     34935\n",
      "weighted avg       0.41      0.48      0.38     34935\n",
      "\n"
     ]
    },
    {
     "name": "stderr",
     "output_type": "stream",
     "text": [
      "/opt/anaconda3/lib/python3.12/site-packages/sklearn/metrics/_classification.py:1509: UndefinedMetricWarning: Precision is ill-defined and being set to 0.0 in labels with no predicted samples. Use `zero_division` parameter to control this behavior.\n",
      "  _warn_prf(average, modifier, f\"{metric.capitalize()} is\", len(result))\n",
      "/opt/anaconda3/lib/python3.12/site-packages/sklearn/metrics/_classification.py:1509: UndefinedMetricWarning: Precision is ill-defined and being set to 0.0 in labels with no predicted samples. Use `zero_division` parameter to control this behavior.\n",
      "  _warn_prf(average, modifier, f\"{metric.capitalize()} is\", len(result))\n",
      "/opt/anaconda3/lib/python3.12/site-packages/sklearn/metrics/_classification.py:1509: UndefinedMetricWarning: Precision is ill-defined and being set to 0.0 in labels with no predicted samples. Use `zero_division` parameter to control this behavior.\n",
      "  _warn_prf(average, modifier, f\"{metric.capitalize()} is\", len(result))\n"
     ]
    },
    {
     "name": "stdout",
     "output_type": "stream",
     "text": [
      "Probabilities for first 5 samples:\n",
      "[[0.11143029 0.12902367 0.04324296 0.         0.13131697 0.52063585\n",
      "  0.01455894 0.01151693 0.03827439 0.        ]\n",
      " [0.23386889 0.14031314 0.02846849 0.00553156 0.05840734 0.44116314\n",
      "  0.00511563 0.         0.0653648  0.02176701]\n",
      " [0.09220385 0.12586218 0.06702907 0.         0.08832314 0.5871523\n",
      "  0.00263481 0.00791832 0.02363583 0.00524051]\n",
      " [0.11071177 0.15898335 0.03098706 0.         0.16823936 0.42789707\n",
      "  0.         0.04540353 0.05777785 0.        ]\n",
      " [0.23759176 0.19802936 0.0221639  0.00624614 0.03826113 0.36046741\n",
      "  0.00785389 0.0020251  0.11313907 0.01422224]]\n"
     ]
    }
   ],
   "source": [
    "# Load your data (assuming it's saved as a CSV)\n",
    "file_path = 'crime_randomforest.csv'  # Update with your file path\n",
    "data = pd.read_csv(file_path)\n",
    "\n",
    "# Preprocessing\n",
    "# Mapping your features and target\n",
    "features = ['vict_age', 'vict_sex', 'vict_descent', 'AREA NAME', 'period']\n",
    "target = 'Crm.Cd.Group'\n",
    "\n",
    "# Handle missing values (simple approach, can be improved)\n",
    "data = data.dropna(subset=features + [target])  # Drop rows with missing values\n",
    "\n",
    "# Encode categorical variables\n",
    "label_encoders = {}\n",
    "for col in features + [target]:\n",
    "    le = LabelEncoder()\n",
    "    data[col] = le.fit_transform(data[col].astype(str))  # Convert to string for consistency\n",
    "    label_encoders[col] = le\n",
    "\n",
    "# Split into features (X) and target (y)\n",
    "X = data[features]\n",
    "y = data[target]\n",
    "\n",
    "\n",
    "# Train/Test Split\n",
    "X_train, X_test, y_train, y_test = train_test_split(X, y, test_size=0.2, random_state=42)\n",
    "\n",
    "# Train the Random Forest Classifier\n",
    "model = RandomForestClassifier(n_estimators=100, random_state=42)\n",
    "model.fit(X_train, y_train)\n",
    "\n",
    "# Make predictions\n",
    "y_pred = model.predict(X_test)\n",
    "\n",
    "# Evaluate the model\n",
    "print(\"Classification Report:\")\n",
    "print(classification_report(y_test, y_pred))\n",
    "\n",
    "# Predict probabilities for the first 5 samples (example)\n",
    "y_proba = model.predict_proba(X_test)\n",
    "print(\"Probabilities for first 5 samples:\")\n",
    "print(y_proba[:5])"
   ]
  },
  {
   "cell_type": "code",
   "execution_count": 36,
   "metadata": {},
   "outputs": [
    {
     "name": "stdout",
     "output_type": "stream",
     "text": [
      "Top-3 Accuracy: 0.81\n",
      "Low-3 Accuracy: 0.02\n",
      "\n",
      "Feature Importance:\n",
      "        feature  importance\n",
      "3     AREA NAME    0.399735\n",
      "2  vict_descent    0.245697\n",
      "1      vict_sex    0.130315\n",
      "4        period    0.127966\n",
      "0      vict_age    0.096287\n"
     ]
    }
   ],
   "source": [
    "# Get predicted probabilities\n",
    "y_proba = model.predict_proba(X_test)\n",
    "\n",
    "# Convert y_test to a NumPy array for indexing\n",
    "y_test_array = y_test.to_numpy()\n",
    "\n",
    "# Calculate Top-3 Accuracy\n",
    "top_3_preds = np.argsort(y_proba, axis=1)[:, -3:]  # Indices of the top 3 probabilities\n",
    "correct_count_top_3 = sum(1 for i, true_class in enumerate(y_test) if true_class in top_3_preds[i])\n",
    "top_3_accuracy = correct_count_top_3 / len(y_test)\n",
    "\n",
    "# Calculate Low-3 Accuracy\n",
    "low_3_preds = np.argsort(y_proba, axis=1)[:, :3]  # Indices of the bottom 3 probabilities\n",
    "correct_count_low_3 = sum(1 for i, true_class in enumerate(y_test) if true_class in low_3_preds[i])\n",
    "low_3_accuracy = correct_count_low_3 / len(y_test)\n",
    "\n",
    "# Print Results\n",
    "print(f\"Top-3 Accuracy: {top_3_accuracy:.2f}\")\n",
    "print(f\"Low-3 Accuracy: {low_3_accuracy:.2f}\")\n",
    "\n",
    "print()\n",
    "\n",
    "importances = model.feature_importances_\n",
    "feature_importance_df = pd.DataFrame({\n",
    "    'feature': features,\n",
    "    'importance': importances\n",
    "}).sort_values('importance', ascending=False)\n",
    "print(\"Feature Importance:\")\n",
    "print(feature_importance_df)"
   ]
  },
  {
   "cell_type": "code",
   "execution_count": 39,
   "metadata": {},
   "outputs": [
    {
     "name": "stdout",
     "output_type": "stream",
     "text": [
      "Label Mappings:\n",
      "{'vict_age': {0: 'Adult (15~64)', 1: 'Elderly (65~)', 2: 'Youth (0~14)'}, 'vict_sex': {0: 'F', 1: 'H', 2: 'M'}, 'vict_descent': {0: 'Asian', 1: 'Black', 2: 'Descent is not Specified', 3: 'Hispanic', 4: 'Native American', 5: 'Other', 6: 'Pacific Islander', 7: 'White'}, 'AREA NAME': {0: '77TH STREET', 1: 'CENTRAL', 2: 'DEVONSHIRE', 3: 'FOOTHILL', 4: 'HARBOR', 5: 'HOLLENBECK', 6: 'HOLLYWOOD', 7: 'MISSION', 8: 'NEWTON', 9: 'NORTH HOLLYWOOD', 10: 'NORTHEAST', 11: 'OLYMPIC', 12: 'PACIFIC', 13: 'RAMPART', 14: 'SOUTHEAST', 15: 'SOUTHWEST', 16: 'TOPANGA', 17: 'VAN NUYS', 18: 'WEST LOS ANGELES', 19: 'WEST VALLEY', 20: 'WILSHIRE'}, 'period': {0: 'afternoon', 1: 'late_night', 2: 'morning', 3: 'night'}, 'Crm.Cd.Group': {0: 'AGG.ASSAULTS', 1: 'BURG.THEFT.FROMVEICHLE', 2: 'BURGLARY', 3: 'HOMICIDE', 4: 'OTHER.THEFT', 5: 'PART2 Crime', 6: 'PERSONAL.THEFT', 7: 'RAPE', 8: 'ROBBERY', 9: 'VEICHLE.THEFT'}}\n"
     ]
    }
   ],
   "source": [
    "# Create a dictionary to map labels back to original categorical values\n",
    "label_mapping = {}\n",
    "for col in features + [target]:\n",
    "    label_mapping[col] = {index: label for index, label in enumerate(label_encoders[col].classes_)}\n",
    "\n",
    "print(\"Label Mappings:\")\n",
    "print(label_mapping)"
   ]
  },
  {
   "cell_type": "code",
   "execution_count": 46,
   "metadata": {},
   "outputs": [
    {
     "name": "stdout",
     "output_type": "stream",
     "text": [
      "Predicted Label: PART2 Crime\n",
      "Probabilities: {'AGG.ASSAULTS': 0.1565328352659695, 'BURG.THEFT.FROMVEICHLE': 0.2745549228336818, 'BURGLARY': 0.018096595754899702, 'HOMICIDE': 0.0, 'OTHER.THEFT': 0.14779251069984242, 'PART2 Crime': 0.31260298998508107, 'PERSONAL.THEFT': 0.027389198524593615, 'RAPE': 0.0, 'ROBBERY': 0.06016227836958181, 'VEICHLE.THEFT': 0.002868668566350221}\n"
     ]
    },
    {
     "name": "stderr",
     "output_type": "stream",
     "text": [
      "/opt/anaconda3/lib/python3.12/site-packages/sklearn/base.py:493: UserWarning: X does not have valid feature names, but RandomForestClassifier was fitted with feature names\n",
      "  warnings.warn(\n",
      "/opt/anaconda3/lib/python3.12/site-packages/sklearn/base.py:493: UserWarning: X does not have valid feature names, but RandomForestClassifier was fitted with feature names\n",
      "  warnings.warn(\n"
     ]
    }
   ],
   "source": [
    "# Function to map numerical age to age groups\n",
    "def map_age_to_group(age):\n",
    "    if age == -1 or age == 0:\n",
    "        return np.nan  # Invalid or missing age\n",
    "    elif age < 15:\n",
    "        return \"Youth (0~14)\"\n",
    "    elif age > 64:\n",
    "        return \"Elderly (65~)\"\n",
    "    else:\n",
    "        return \"Adult (15~64)\"\n",
    "\n",
    "# Updated Function to Predict for Numerical `vict_age`\n",
    "def predict_new_sample(input_data, model, features, label_mapping, target_label_mapping):\n",
    "    \"\"\"\n",
    "    Predict the output for new input data, mapping vict_age to age groups.\n",
    "    Args:\n",
    "        input_data (dict): A dictionary containing feature values (vict_age as numerical).\n",
    "        model (sklearn model): The trained Random Forest model.\n",
    "        features (list): List of feature names.\n",
    "        label_mapping (dict): Mapping of encoded values to original values for each feature.\n",
    "        target_label_mapping (dict): Mapping of encoded values to original target labels.\n",
    "\n",
    "    Returns:\n",
    "        prediction (str): Predicted class label.\n",
    "        probabilities (dict): Probabilities for each class.\n",
    "    \"\"\"\n",
    "    # Map `vict_age` to its group\n",
    "    if 'vict_age' in input_data:\n",
    "        input_data['vict_age'] = map_age_to_group(input_data['vict_age'])\n",
    "    \n",
    "    # Encode the input data\n",
    "    encoded_input = []\n",
    "    for feature in features:\n",
    "        value = input_data[feature]\n",
    "        encoded_value = label_encoders[feature].transform([str(value)])[0]  # Encode input\n",
    "        encoded_input.append(encoded_value)\n",
    "    \n",
    "    # Reshape for prediction\n",
    "    encoded_input = np.array(encoded_input).reshape(1, -1)\n",
    "    \n",
    "    # Predict\n",
    "    pred = model.predict(encoded_input)\n",
    "    pred_proba = model.predict_proba(encoded_input)\n",
    "    \n",
    "    # Decode prediction\n",
    "    predicted_label = target_label_mapping[pred[0]]\n",
    "    \n",
    "    # Map probabilities to target labels\n",
    "    proba_dict = {target_label_mapping[idx]: prob for idx, prob in enumerate(pred_proba[0])}\n",
    "    \n",
    "    return predicted_label, proba_dict\n",
    "\n",
    "# Example Input with Numerical `vict_age`\n",
    "example_input = {\n",
    "    'vict_age': 30,            # Numerical age\n",
    "    'vict_sex': 'M',           # As categorical input\n",
    "    'vict_descent': 'Hispanic',       # As categorical input\n",
    "    'AREA NAME': 'CENTRAL',    # As categorical input\n",
    "    'period': 'night'        # As categorical input\n",
    "}\n",
    "\n",
    "# Perform Prediction\n",
    "predicted_label, probabilities = predict_new_sample(\n",
    "    example_input, model, features, label_mapping, label_mapping[target]\n",
    ")\n",
    "\n",
    "# Display Results\n",
    "print(\"Predicted Label:\", predicted_label)\n",
    "print(\"Probabilities:\", probabilities)"
   ]
  },
  {
   "cell_type": "code",
   "execution_count": 47,
   "metadata": {},
   "outputs": [
    {
     "name": "stdout",
     "output_type": "stream",
     "text": [
      "Model saved as random_forest_model.joblib\n"
     ]
    }
   ],
   "source": [
    "import joblib\n",
    "from sklearn.ensemble import RandomForestClassifier\n",
    "\n",
    "# Train a Random Forest model (example)\n",
    "model = RandomForestClassifier(n_estimators=100, random_state=42)\n",
    "model.fit(X_train, y_train)\n",
    "\n",
    "# Save the trained model to a file\n",
    "joblib.dump(model, \"random_forest_model.joblib\")\n",
    "print(\"Model saved as random_forest_model.joblib\")"
   ]
  }
 ],
 "metadata": {
  "kernelspec": {
   "display_name": "base",
   "language": "python",
   "name": "python3"
  },
  "language_info": {
   "codemirror_mode": {
    "name": "ipython",
    "version": 3
   },
   "file_extension": ".py",
   "mimetype": "text/x-python",
   "name": "python",
   "nbconvert_exporter": "python",
   "pygments_lexer": "ipython3",
   "version": "3.12.4"
  }
 },
 "nbformat": 4,
 "nbformat_minor": 2
}
